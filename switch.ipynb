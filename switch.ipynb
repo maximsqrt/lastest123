{
 "cells": [
  {
   "cell_type": "markdown",
   "metadata": {},
   "source": [
    "Hier ein typischer Workflow, wie Du von Deinem Main-Branch einen neuen Branch erstellst, dort Änderungen vornimmst und anschließend wieder in Main mergen kannst:\n",
    "\n",
    "1. **Auf den Main-Branch wechseln und aktualisieren (optional):**\n",
    "   ```bash\n",
    "   git checkout main\n",
    "   git pull origin main\n",
    "   ```\n",
    "\n",
    "2. **Neuen Branch basierend auf Main erstellen und zu ihm wechseln:**\n",
    "   ```bash\n",
    "   git checkout -b newbranch\n",
    "   ```\n",
    "   Dies erstellt einen Branch namens *newbranch* und wechselt automatisch darauf.\n",
    "\n",
    "3. **Änderungen vornehmen, zum Staging hinzufügen und committen:**\n",
    "   ```bash\n",
    "   # Änderungen in Dateien durchführen, dann:\n",
    "   git add .\n",
    "   git commit -m \"Änderungen in newbranch vorgenommen\"\n",
    "   ```\n",
    "\n",
    "4. **Zurück zum Main-Branch wechseln:**\n",
    "   ```bash\n",
    "   git checkout main\n",
    "   ```\n",
    "\n",
    "5. **Main aktualisieren (optional, falls zwischenzeitlich Änderungen gepusht wurden):**\n",
    "   ```bash\n",
    "   git pull origin main\n",
    "   ```\n",
    "awd\n",
    "6. **Den neuen Branch in Main mergen:**\n",
    "   ```bash\n",
    "   git merge newbranch\n",
    "   ```\n",
    "   Damit werden alle Änderungen aus *newbranch* in den Main-Branch integriert.\n",
    "\n",
    "7. **Änderungen ins Remote-Repository pushen:**\n",
    "   ```bash\n",
    "   git push origin main\n",
    "   ```\n",
    "\n",
    "Auf diese Weise verlässt Du den Main-Branch für Deine Arbeit, führst Änderungen im separaten Branch durch und integrierst diese schließlich wieder in den Main. Dies hilft, den stabilen Code auf Main zu schützen und Änderungen zunächst isoliert zu entwickeln und zu testen."
   ]
  }
 ],
 "metadata": {
  "language_info": {
   "name": "python"
  }
 },
 "nbformat": 4,
 "nbformat_minor": 2
}
